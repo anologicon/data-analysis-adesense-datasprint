{
  "nbformat": 4,
  "nbformat_minor": 0,
  "metadata": {
    "colab": {
      "name": "dataSprints.ipynb",
      "provenance": [],
      "collapsed_sections": [],
      "mount_file_id": "19BHW2QoxeKrq4ZDu8a0Lpug6rDho8EZH",
      "authorship_tag": "ABX9TyPlh7H65jwpwdFpCMsxk7rg",
      "include_colab_link": true
    },
    "kernelspec": {
      "name": "python3",
      "display_name": "Python 3"
    },
    "accelerator": "GPU"
  },
  "cells": [
    {
      "cell_type": "markdown",
      "metadata": {
        "id": "view-in-github",
        "colab_type": "text"
      },
      "source": [
        "<a href=\"https://colab.research.google.com/github/anologicon/data-analysis-adesense-datasprint/blob/master/dataSprints.ipynb\" target=\"_parent\"><img src=\"https://colab.research.google.com/assets/colab-badge.svg\" alt=\"Open In Colab\"/></a>"
      ]
    },
    {
      "cell_type": "markdown",
      "metadata": {
        "id": "0TW83aqh5ycZ",
        "colab_type": "text"
      },
      "source": [
        "# Setup the note-book\n",
        "\n",
        "---\n",
        "\n"
      ]
    },
    {
      "cell_type": "code",
      "metadata": {
        "id": "KE_CxxEYGONx",
        "colab_type": "code",
        "cellView": "both",
        "colab": {}
      },
      "source": [
        "import pandas as pd\n",
        "import matplotlib.pyplot as plt\n",
        "import seaborn as sns\n",
        "from pandas.io.json import json_normalize\n",
        "%matplotlib inline\n",
        "sns.set();\n",
        "sns.color_palette(\"Blues_d\");"
      ],
      "execution_count": 0,
      "outputs": []
    },
    {
      "cell_type": "code",
      "metadata": {
        "id": "fqxoYUAaY6NI",
        "colab_type": "code",
        "cellView": "form",
        "colab": {}
      },
      "source": [
        "#@title\n",
        "\n",
        "# Config to display a plot on google colab, this is sad by tha way :c\n",
        "\n",
        "def configure_plotly_browser_state():\n",
        "  import IPython\n",
        "  display(IPython.core.display.HTML('''\n",
        "        <script src=\"/static/components/requirejs/require.js\"></script>\n",
        "        <script>\n",
        "          requirejs.config({\n",
        "            paths: {\n",
        "              base: '/static/base',\n",
        "              plotly: 'https://cdn.plot.ly/plotly-1.5.1.min.js?noext',\n",
        "            },\n",
        "          });\n",
        "        </script>\n",
        "        '''))"
      ],
      "execution_count": 0,
      "outputs": []
    },
    {
      "cell_type": "markdown",
      "metadata": {
        "id": "0U2rLP4l6ucR",
        "colab_type": "text"
      },
      "source": [
        "# Reading data and preparing to use\n",
        "\n",
        "---\n",
        "\n"
      ]
    },
    {
      "cell_type": "code",
      "metadata": {
        "id": "dM4lbh3bGTVI",
        "colab_type": "code",
        "colab": {}
      },
      "source": [
        "# The path to the file;\n",
        "\n",
        "file_path = '/content/drive/My Drive/Colab Notebooks/DataScprints/realties.json'"
      ],
      "execution_count": 0,
      "outputs": []
    },
    {
      "cell_type": "code",
      "metadata": {
        "id": "mdzZvffnGvyp",
        "colab_type": "code",
        "colab": {}
      },
      "source": [
        "# Reading the json file with the var file_path\n",
        "# Note: Put this analysis in the databricks plataform, to use spark\n",
        "\n",
        "dataFrame = pd.read_json(file_path)"
      ],
      "execution_count": 0,
      "outputs": []
    },
    {
      "cell_type": "code",
      "metadata": {
        "id": "4SgRylxNMXRf",
        "colab_type": "code",
        "outputId": "81fd366a-142e-43a6-fef1-4ce78d3c5397",
        "colab": {
          "base_uri": "https://localhost:8080/",
          "height": 204
        }
      },
      "source": [
        "# Look that estructure\n",
        "\n",
        "dataFrame.head()"
      ],
      "execution_count": 0,
      "outputs": [
        {
          "output_type": "execute_result",
          "data": {
            "text/html": [
              "<div>\n",
              "<style scoped>\n",
              "    .dataframe tbody tr th:only-of-type {\n",
              "        vertical-align: middle;\n",
              "    }\n",
              "\n",
              "    .dataframe tbody tr th {\n",
              "        vertical-align: top;\n",
              "    }\n",
              "\n",
              "    .dataframe thead th {\n",
              "        text-align: right;\n",
              "    }\n",
              "</style>\n",
              "<table border=\"1\" class=\"dataframe\">\n",
              "  <thead>\n",
              "    <tr style=\"text-align: right;\">\n",
              "      <th></th>\n",
              "      <th>_id</th>\n",
              "      <th>_index</th>\n",
              "      <th>_score</th>\n",
              "      <th>_source</th>\n",
              "      <th>_type</th>\n",
              "    </tr>\n",
              "  </thead>\n",
              "  <tbody>\n",
              "    <tr>\n",
              "      <th>2</th>\n",
              "      <td>LOr6iGcB_HRRL6pG3mnW</td>\n",
              "      <td>realties</td>\n",
              "      <td>1</td>\n",
              "      <td>{'error': [], 'uf': 'PR', 'longitude': -49.278...</td>\n",
              "      <td>imovel</td>\n",
              "    </tr>\n",
              "    <tr>\n",
              "      <th>3</th>\n",
              "      <td>Ler6iGcB_HRRL6pG3mnb</td>\n",
              "      <td>realties</td>\n",
              "      <td>1</td>\n",
              "      <td>{'error': [], 'uf': 'PR', 'longitude': -49.280...</td>\n",
              "      <td>imovel</td>\n",
              "    </tr>\n",
              "    <tr>\n",
              "      <th>7</th>\n",
              "      <td>5er7iGcB_HRRL6pG1Wn-</td>\n",
              "      <td>realties</td>\n",
              "      <td>1</td>\n",
              "      <td>{'quarto': 3, 'error': [], 'uf': 'PR', 'longit...</td>\n",
              "      <td>imovel</td>\n",
              "    </tr>\n",
              "    <tr>\n",
              "      <th>8</th>\n",
              "      <td>5ur7iGcB_HRRL6pG1mkB</td>\n",
              "      <td>realties</td>\n",
              "      <td>1</td>\n",
              "      <td>{'quarto': 4, 'error': [], 'uf': 'PR', 'longit...</td>\n",
              "      <td>imovel</td>\n",
              "    </tr>\n",
              "    <tr>\n",
              "      <th>9</th>\n",
              "      <td>3Or7iGcB_HRRL6pGxGl1</td>\n",
              "      <td>realties</td>\n",
              "      <td>1</td>\n",
              "      <td>{'anunciante': {'id': '411cbb1b8d58afa3b9419a1...</td>\n",
              "      <td>imovel</td>\n",
              "    </tr>\n",
              "  </tbody>\n",
              "</table>\n",
              "</div>"
            ],
            "text/plain": [
              "                    _id  ...   _type\n",
              "2  LOr6iGcB_HRRL6pG3mnW  ...  imovel\n",
              "3  Ler6iGcB_HRRL6pG3mnb  ...  imovel\n",
              "7  5er7iGcB_HRRL6pG1Wn-  ...  imovel\n",
              "8  5ur7iGcB_HRRL6pG1mkB  ...  imovel\n",
              "9  3Or7iGcB_HRRL6pGxGl1  ...  imovel\n",
              "\n",
              "[5 rows x 5 columns]"
            ]
          },
          "metadata": {
            "tags": []
          },
          "execution_count": 9
        }
      ]
    },
    {
      "cell_type": "code",
      "metadata": {
        "id": "IU9FzJxS7_ie",
        "colab_type": "code",
        "outputId": "a48be645-a2a8-43c5-f23b-860e8aa4d83c",
        "colab": {
          "base_uri": "https://localhost:8080/",
          "height": 34
        }
      },
      "source": [
        "# Let use shape;\n",
        "\n",
        "(lines, columns) = dataFrame.shape\n",
        "\n",
        "print(' This data frame have ', lines, ' lines and ', columns, ' columns')"
      ],
      "execution_count": 0,
      "outputs": [
        {
          "output_type": "stream",
          "text": [
            " This data frame have  149968  lines and  5  columns\n"
          ],
          "name": "stdout"
        }
      ]
    },
    {
      "cell_type": "code",
      "metadata": {
        "id": "2OiznzQ4Egpw",
        "colab_type": "code",
        "colab": {}
      },
      "source": [
        "# Ok, now, we need take a focus on the _source column\n",
        "# But why? The _source column have many types of structures\n",
        "# with x numbers of columns, and with others types of data like lists;\n",
        "\n",
        "# The _source, it's a json. Many bots it's used to collect this data, and\n",
        "# merged in kind of data lake.\n",
        "\n",
        "# But, you know the json_normalize function from pandas?\n",
        "# This function can get some structures, preserve the attributes\n",
        "# fill miss attributes with nan, and return a kind of dataframe.\n",
        "# On the doc say 'Normalize semi-structured JSON data into a flat table.'\n",
        "\n",
        "sourceDf = json_normalize(dataFrame._source)"
      ],
      "execution_count": 0,
      "outputs": []
    },
    {
      "cell_type": "code",
      "metadata": {
        "id": "LDkK54vYBFFV",
        "colab_type": "code",
        "colab": {}
      },
      "source": [
        "# A copy from the original dataframe, it's a good practice\n",
        "\n",
        "df = sourceDf.copy()"
      ],
      "execution_count": 0,
      "outputs": []
    },
    {
      "cell_type": "code",
      "metadata": {
        "id": "9YHxksA8F-IO",
        "colab_type": "code",
        "colab": {}
      },
      "source": [
        "# Checking for a duplicate data, the urls it's a kind of a unique identification\n",
        "# because it's one URL for ONE Adsense\n",
        "\n",
        "duplicated = df[df.duplicated(['url'])]"
      ],
      "execution_count": 0,
      "outputs": []
    },
    {
      "cell_type": "code",
      "metadata": {
        "id": "WDsmHAahHNEe",
        "colab_type": "code",
        "outputId": "9ddf7b00-dd4d-4208-9024-f7ecfa3343ec",
        "colab": {
          "base_uri": "https://localhost:8080/",
          "height": 34
        }
      },
      "source": [
        "(rows, _) = duplicated.shape\n",
        "\n",
        "print('Detected ', rows, ' duplicated lines')"
      ],
      "execution_count": 0,
      "outputs": [
        {
          "output_type": "stream",
          "text": [
            "Detected  121  duplicated lines\n"
          ],
          "name": "stdout"
        }
      ]
    },
    {
      "cell_type": "code",
      "metadata": {
        "id": "icHAufaIHeon",
        "colab_type": "code",
        "colab": {}
      },
      "source": [
        "# Removing duplicates from dataframe\n",
        "\n",
        "df.drop_duplicates(['url'], inplace=True)"
      ],
      "execution_count": 0,
      "outputs": []
    },
    {
      "cell_type": "code",
      "metadata": {
        "id": "kngLZ801I2By",
        "colab_type": "code",
        "outputId": "936f2370-5d03-4287-8222-eca883cb0805",
        "colab": {
          "base_uri": "https://localhost:8080/",
          "height": 34
        }
      },
      "source": [
        "countRemoved = sourceDf.shape[0] - df.shape[0]\n",
        "\n",
        "print(\"Was removed\", countRemoved, \" adsense duplicated!\")"
      ],
      "execution_count": 0,
      "outputs": [
        {
          "output_type": "stream",
          "text": [
            "Was removed 121  adsense duplicated!\n"
          ],
          "name": "stdout"
        }
      ]
    },
    {
      "cell_type": "code",
      "metadata": {
        "id": "OdEv9ZTkLHWD",
        "colab_type": "code",
        "outputId": "c6b5c934-d975-4aad-ec6d-7f4db9f7ff72",
        "colab": {
          "base_uri": "https://localhost:8080/",
          "height": 34
        }
      },
      "source": [
        "# the column 'valor' is the price of the property\n",
        "# i assume this my target var, so i started filter the nan values from 'valor'\n",
        "\n",
        "nanValorDf = df[df['valor'].isna()]\n",
        "\n",
        "print('The dataframe have', nanValorDf.shape[0], ' nan price')\n",
        "\n",
        "# My firts idea is, try fix this with the mean, but i decide remove than\n",
        "# it's low the number of adsense with nan on 'valor'."
      ],
      "execution_count": 0,
      "outputs": [
        {
          "output_type": "stream",
          "text": [
            "The dataframe have 1450  nan price\n"
          ],
          "name": "stdout"
        }
      ]
    },
    {
      "cell_type": "code",
      "metadata": {
        "id": "9sgcNUBIKqFD",
        "colab_type": "code",
        "colab": {}
      },
      "source": [
        "# Removing NaN adesense on column 'valor'\n",
        "\n",
        "df.dropna(axis=0, subset=['valor'], inplace=True)"
      ],
      "execution_count": 0,
      "outputs": []
    },
    {
      "cell_type": "markdown",
      "metadata": {
        "id": "CayV4qPGsPhH",
        "colab_type": "text"
      },
      "source": [
        "# Starting EDA\n",
        "--- "
      ]
    },
    {
      "cell_type": "code",
      "metadata": {
        "id": "VmQQK06WOSEH",
        "colab_type": "code",
        "outputId": "c0adc528-c61f-49c7-cbf0-5bd5afb9b0ed",
        "colab": {
          "base_uri": "https://localhost:8080/",
          "height": 102
        }
      },
      "source": [
        "# The column UF (state) have only one value\n",
        "df['uf'].describe()"
      ],
      "execution_count": 0,
      "outputs": [
        {
          "output_type": "execute_result",
          "data": {
            "text/plain": [
              "count     148397\n",
              "unique         1\n",
              "top           PR\n",
              "freq      148397\n",
              "Name: uf, dtype: object"
            ]
          },
          "metadata": {
            "tags": []
          },
          "execution_count": 19
        }
      ]
    },
    {
      "cell_type": "code",
      "metadata": {
        "id": "-hTg6A2l5dCR",
        "colab_type": "code",
        "outputId": "bbcb6776-fd46-410d-84e7-bc49f3f9dc1e",
        "colab": {
          "base_uri": "https://localhost:8080/",
          "height": 102
        }
      },
      "source": [
        "# The column 'cidade.full_name' was created from the function 'cidade.full_name';\n",
        "# This column have onlye one value to!\n",
        "# So, this dataframe it's fora especific city, Curitiba, Paraná\n",
        "\n",
        "df['cidade.full_name'].describe()"
      ],
      "execution_count": 0,
      "outputs": [
        {
          "output_type": "execute_result",
          "data": {
            "text/plain": [
              "count                       148397\n",
              "unique                           1\n",
              "top       Curitiba, Paraná, Brasil\n",
              "freq                        148397\n",
              "Name: cidade.full_name, dtype: object"
            ]
          },
          "metadata": {
            "tags": []
          },
          "execution_count": 20
        }
      ]
    },
    {
      "cell_type": "code",
      "metadata": {
        "id": "84XJrBFn6SLv",
        "colab_type": "code",
        "outputId": "49e773c8-4f1e-43fc-f6ec-40498f8a5fe9",
        "colab": {
          "base_uri": "https://localhost:8080/",
          "height": 102
        }
      },
      "source": [
        "# The name of neighborhood's.\n",
        "# This dataframe have 107 neighborhood's\n",
        "\n",
        "df['bairro.nome'].describe()"
      ],
      "execution_count": 0,
      "outputs": [
        {
          "output_type": "execute_result",
          "data": {
            "text/plain": [
              "count     147275\n",
              "unique       107\n",
              "top       Centro\n",
              "freq       12061\n",
              "Name: bairro.nome, dtype: object"
            ]
          },
          "metadata": {
            "tags": []
          },
          "execution_count": 21
        }
      ]
    },
    {
      "cell_type": "code",
      "metadata": {
        "id": "fdZkPlEr7WRu",
        "colab_type": "code",
        "outputId": "e95779f2-6c8f-494d-933b-dcdbd26daebd",
        "colab": {
          "base_uri": "https://localhost:8080/",
          "height": 34
        }
      },
      "source": [
        "print('Number of adsense without neighborhood name: ', df['bairro.nome'].isna().sum())"
      ],
      "execution_count": 0,
      "outputs": [
        {
          "output_type": "stream",
          "text": [
            "Number of adsense without neighborhood name:  1122\n"
          ],
          "name": "stdout"
        }
      ]
    },
    {
      "cell_type": "code",
      "metadata": {
        "id": "0dlLIuX-_BWl",
        "colab_type": "code",
        "colab": {}
      },
      "source": [
        "# Separate NaN neighborhood\n",
        "\n",
        "neighborhoodDf = df.dropna(axis=0, subset=['bairro.nome'])"
      ],
      "execution_count": 0,
      "outputs": []
    },
    {
      "cell_type": "markdown",
      "metadata": {
        "id": "PmfEjwBOsXbR",
        "colab_type": "text"
      },
      "source": [
        "# Top 10 most valuable neighborhood\n",
        "### In the first place 'Industrial 1' with mean price more than R$ 800,000,000"
      ]
    },
    {
      "cell_type": "code",
      "metadata": {
        "id": "3KsJQnkhgBb7",
        "colab_type": "code",
        "outputId": "e0e431e0-a0ec-4d1b-f9e7-8107fe5d121f",
        "colab": {
          "base_uri": "https://localhost:8080/",
          "height": 628
        }
      },
      "source": [
        "# Sorting adesense prices\n",
        "gpNeighborhoodDf = gpNeighborhoodDf.sort_values('valor', ascending=False);\n",
        "\n",
        "# Get only the top 10\n",
        "gpNeighborhoodDf = gpNeighborhoodDf.iloc[:10]\n",
        "\n",
        "plt.figure(figsize=(20,10))\n",
        "\n",
        "# Seting title to graph\n",
        "plt.title('Top 10 price for neighborhood')\n",
        "\n",
        "# Preparing the bar plot\n",
        "sns.barplot(\n",
        "    x = gpNeighborhoodDf.index,\n",
        "    y = gpNeighborhoodDf.valor\n",
        ");\n",
        "\n",
        "plt.ylabel('Price');\n",
        "plt.xlabel('Neighborhood');"
      ],
      "execution_count": 0,
      "outputs": [
        {
          "output_type": "display_data",
          "data": {
            "image/png": "[encoded data removed]",
            "text/plain": [
              "<Figure size 1440x720 with 1 Axes>"
            ]
          },
          "metadata": {
            "tags": []
          }
        }
      ]
    }
  ]
}